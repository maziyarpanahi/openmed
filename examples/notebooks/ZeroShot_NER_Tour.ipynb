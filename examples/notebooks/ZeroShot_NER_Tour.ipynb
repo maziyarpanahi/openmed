{
  "cells": [
    {
      "cell_type": "markdown",
      "metadata": {},
      "source": [
        "# Zero-Shot NER Toolkit Tour\n",
        "\n",
        "This notebook walks through the zero-shot NER utilities in OpenMed:\n",
        "\n",
        "- Building or loading the model index\n",
        "- Exploring domain defaults\n",
        "- Running programmatic inference with custom labels\n",
        "- Converting span entities to token-level BIO/BILOU tags\n",
        "- Referencing the CLI helpers for automation"
      ]
    },
    {
      "cell_type": "markdown",
      "metadata": {},
      "source": [
        "## Prerequisites",
        "",
        "Install the optional GLiNER + Hugging Face extras if you have not already:",
        "",
        "```bash",
        "uv pip install \".[hf,gliner]\"",
        "# or",
        "pip install \".[hf,gliner]\"",
        "```",
        "",
        "The examples below pull published models directly from the Hugging Face Hub, so no local index is required."
      ]
    },
    {
      "cell_type": "markdown",
      "metadata": {},
      "source": [
        "## Explore Domain Defaults"
      ]
    },
    {
      "cell_type": "code",
      "execution_count": null,
      "metadata": {},
      "outputs": [],
      "source": [
        "domains = available_domains()\n",
        "print(f\"Domains ({len(domains)}): {', '.join(domains)}\")\n",
        "\n",
        "sample_domain = 'biomedical' if 'biomedical' in domains else domains[0]\n",
        "print(\"\\nDefault labels for\", sample_domain, \":\", get_default_labels(sample_domain))\n"
      ]
    },
    {
      "cell_type": "markdown",
      "metadata": {},
      "source": [
        "## Programmatic Inference\n",
        "\n",
        "Pick a GLiNER entry from the index and run zero-shot predictions. Override labels explicitly or rely on domain defaults."
      ]
    },
    {
      "cell_type": "code",
      "execution_count": null,
      "metadata": {},
      "outputs": [],
      "source": [
        "model_id = 'OpenMed/OpenMed-ZeroShot-NER-Genomic-Tiny-60M'\n",
        "request = NerRequest(\n",
        "    model_id=model_id,\n",
        "    text=\"Imatinib inhibits BCR-ABL in chronic myeloid leukemia patients.\",\n",
        "    threshold=0.5,\n",
        "    domain='genomic',\n",
        ")\n",
        "response = infer(request)\n",
        "for entity in response.entities:\n",
        "    print(f\"{entity.label:>12} | {entity.score:0.3f} | {entity.text}\")\n",
        "\n",
        "response.meta\n"
      ]
    },
    {
      "cell_type": "markdown",
      "metadata": {},
      "source": [
        "## Convert to Token-Level BIO/BILOU Labels"
      ]
    },
    {
      "cell_type": "code",
      "execution_count": null,
      "metadata": {},
      "outputs": [],
      "source": [
        "adapter_result = to_token_classification(response.entities, request.text, scheme=\"BILOU\")\n",
        "for token in adapter_result.tokens[:10]:\n",
        "    print(f\"{token.token!r:>12} -> {token.label}\")\n",
        "\n",
        "adapter_result.metadata"
      ]
    },
    {
      "cell_type": "markdown",
      "metadata": {},
      "source": [
        "## CLI Cheat Sheet\n",
        "\n",
        "Run these commands from a shell:\n",
        "\n",
        "```bash\n",
        "# Build or refresh the model index (uses $OPENMED_ZEROSHOT_MODELS_DIR)\n",
        "python -m ner_tools.index\n",
        "\n",
        "# Inspect default labels\n",
        "python -m ner_tools.labels dump-defaults --domain biomedical\n",
        "\n",
        "# Run inference with custom labels\n",
        "python -m ner_tools.infer \\\n",
        "  --model-id gliner-biomed-tiny \\\n",
        "  --text \"Imatinib inhibits BCR-ABL in CML.\" \\\n",
        "  --threshold 0.55 \\\n",
        "  --labels Drug,Gene,Disease\n",
        "\n",
        "# Optional smoke test across a few GLiNER models\n",
        "python scripts/smoke_gliner.py --limit 3 --adapter\n",
        "```"
      ]
    },
    {
      "cell_type": "markdown",
      "metadata": {},
      "source": [
        "## Next Steps\n",
        "\n",
        "- Extend `label_maps/defaults.json` with new domains and labels.\n",
        "- Integrate the `infer` response into evaluation dashboards or downstream automation.\n",
        "- Wrap CLI commands into CI jobs to keep zero-shot coverage healthy."
      ]
    }
  ],
  "metadata": {
    "kernelspec": {
      "display_name": ".venv-openmed",
      "language": "python",
      "name": "python3"
    },
    "language_info": {
      "codemirror_mode": {
        "name": "ipython",
        "version": 3
      },
      "file_extension": ".py",
      "mimetype": "text/x-python",
      "name": "python",
      "nbconvert_exporter": "python",
      "pygments_lexer": "ipython3",
      "version": "3.10.16"
    }
  },
  "nbformat": 4,
  "nbformat_minor": 5
}