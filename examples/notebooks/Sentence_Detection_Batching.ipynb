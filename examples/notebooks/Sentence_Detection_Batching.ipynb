{
 "cells": [
  {
   "cell_type": "markdown",
   "metadata": {},
   "source": [
    "# Sentence-Level Batching with `analyze_text`\n",
    "\n",
    "This notebook demonstrates how the new sentence detection flow leverages [pySBD](https://github.com/nipunsadvilkar/pySBD) to batch long documents for OpenMed named-entity recognition. You will:\n",
    "\n",
    "1. Load a Hugging Face token-classification model.\n",
    "2. Run `analyze_text` with sentence detection enabled (the default).\n",
    "3. Compare the same invocation with sentence detection disabled.\n",
    "4. Inspect sentence-aware metadata attached to each entity prediction.\n",
    "\n",
    "⚠️ **Prerequisites**: make sure you are inside the project virtual environment (`source .venv/bin/activate`) and have installed the runtime dependencies:\n",
    "\n",
    "```bash\n",
    "uv pip install transformers==4.57.1 torch==2.9.0 --index-url https://download.pytorch.org/whl/cpu\n",
    "uv pip install pysbd==0.3.4\n",
    "```"
   ]
  },
  {
   "cell_type": "code",
   "execution_count": 5,
   "metadata": {},
   "outputs": [
    {
     "name": "stdout",
     "output_type": "stream",
     "text": [
      "Characters in input: 1,137\n"
     ]
    }
   ],
   "source": [
    "import time\n",
    "from pathlib import Path\n",
    "\n",
    "from openmed import analyze_text, OpenMedConfig, ModelLoader\n",
    "\n",
    "# Configure a CPU-only loader with a dedicated cache directory\n",
    "config = OpenMedConfig(cache_dir=\".hf_cache\", device=\"cpu\")\n",
    "loader = ModelLoader(config)\n",
    "\n",
    "MODEL_ID = \"OpenMed/OpenMed-NER-OncologyDetect-SuperMedical-355M\"\n",
    "\n",
    "# long_text = Path(\"../../tests/fixtures/long_clinical_note.txt\").read_text().strip()\n",
    "long_text = Path(\"../../tests/fixtures/clinical_note.txt\").read_text().strip()\n",
    "# Repeat the document to simulate a larger real-world payload\n",
    "long_text = \"\\n\\n\".join([long_text])\n",
    "print(f\"Characters in input: {len(long_text):,}\")"
   ]
  },
  {
   "cell_type": "markdown",
   "metadata": {},
   "source": [
    "## Analyze with Sentence Detection (default)\n",
    "\n",
    "The helper splits the document into sentences using pySBD, batches them, and preserves offsets in the returned entities."
   ]
  },
  {
   "cell_type": "code",
   "execution_count": 6,
   "metadata": {},
   "outputs": [
    {
     "name": "stderr",
     "output_type": "stream",
     "text": [
      "Device set to use cpu\n"
     ]
    },
    {
     "name": "stdout",
     "output_type": "stream",
     "text": [
      "Sentence detection runtime: 2.62s\n",
      "Sentences processed: 21\n",
      "Entities returned: 5\n"
     ]
    }
   ],
   "source": [
    "start = time.perf_counter()\n",
    "result_sentence = analyze_text(\n",
    "    long_text,\n",
    "    model_name=MODEL_ID,\n",
    "    loader=loader,\n",
    "    config=config,\n",
    "    output_format=\"dict\",\n",
    "    max_length=512,  # applied per sentence batch\n",
    "    batch_size=16,\n",
    "    confidence_threshold=0.8,\n",
    "    sentence_detection=True,\n",
    "    group_entities=True,\n",
    ")\n",
    "elapsed_sentence = time.perf_counter() - start\n",
    "\n",
    "print(f\"Sentence detection runtime: {elapsed_sentence:.2f}s\")\n",
    "print(\"Sentences processed:\", result_sentence.metadata.get(\"sentence_count\"))\n",
    "print(\"Entities returned:\", len(result_sentence.entities))"
   ]
  },
  {
   "cell_type": "markdown",
   "metadata": {},
   "source": [
    "Each `EntityPrediction` now carries sentence metadata. The snippet below inspects the first few entries."
   ]
  },
  {
   "cell_type": "code",
   "execution_count": 7,
   "metadata": {},
   "outputs": [
    {
     "name": "stdout",
     "output_type": "stream",
     "text": [
      "⸻ Amino_acid 8 (283, 284)\n",
      "⸻ Amino_acid 11 (340, 341)\n",
      "aspirin Simple_chemical 18 (931, 1056)\n",
      "aspirin Simple_chemical 18 (931, 1056)\n",
      "nitroglycerin Simple_chemical 19 (1057, 1104)\n"
     ]
    }
   ],
   "source": [
    "for entity in result_sentence.entities[:5]:\n",
    "    print(\n",
    "        entity.text,\n",
    "        entity.label,\n",
    "        entity.metadata[\"sentence_index\"],\n",
    "        f\"({entity.metadata['sentence_start']}, {entity.metadata['sentence_end']})\",\n",
    "    )"
   ]
  },
  {
   "cell_type": "code",
   "execution_count": 8,
   "id": "d93e8a9f",
   "metadata": {},
   "outputs": [
    {
     "data": {
      "text/plain": [
       "[EntityPrediction(text='⸻', label='Amino_acid', confidence=0.8921184738477071, start=283, end=284, metadata={'sentence_index': 8, 'sentence_text': '⸻', 'sentence_start': 283, 'sentence_end': 284}),\n",
       " EntityPrediction(text='⸻', label='Amino_acid', confidence=0.8956050674120585, start=340, end=341, metadata={'sentence_index': 11, 'sentence_text': '⸻', 'sentence_start': 340, 'sentence_end': 341}),\n",
       " EntityPrediction(text='aspirin', label='Simple_chemical', confidence=0.9147762656211853, start=986, end=993, metadata={'sentence_index': 18, 'sentence_text': 'He took his usual morning medications today, including aspirin 81 mg, but did not take any additional aspirin before arrival.', 'sentence_start': 931, 'sentence_end': 1056}),\n",
       " EntityPrediction(text='aspirin', label='Simple_chemical', confidence=0.8815539479255676, start=1033, end=1040, metadata={'sentence_index': 18, 'sentence_text': 'He took his usual morning medications today, including aspirin 81 mg, but did not take any additional aspirin before arrival.', 'sentence_start': 931, 'sentence_end': 1056}),\n",
       " EntityPrediction(text='nitroglycerin', label='Simple_chemical', confidence=0.9395073801279068, start=1060, end=1073, metadata={'sentence_index': 19, 'sentence_text': 'No nitroglycerin was taken prior to ED arrival.', 'sentence_start': 1057, 'sentence_end': 1104})]"
      ]
     },
     "execution_count": 8,
     "metadata": {},
     "output_type": "execute_result"
    }
   ],
   "source": [
    "result_sentence.entities"
   ]
  },
  {
   "cell_type": "code",
   "execution_count": null,
   "id": "a54561a0",
   "metadata": {},
   "outputs": [],
   "source": [
    "start = time.perf_counter()\n",
    "result_sentence = analyze_text(\n",
    "    \"Sentence 069: Patient denies new neurological symptoms such as weakness or visual changes.\",\n",
    "    model_name=MODEL_ID,\n",
    "    loader=loader,\n",
    "    config=config,\n",
    "    output_format=\"dict\",\n",
    "    max_length=512,  # applied per sentence batch\n",
    "    batch_size=4,\n",
    "    confidence_threshold=0.8,\n",
    "    sentence_detection=False,\n",
    "    group_entities=True,\n",
    ")\n",
    "elapsed_sentence = time.perf_counter() - start\n",
    "\n",
    "print(f\"Sentence detection runtime: {elapsed_sentence:.2f}s\")\n",
    "print(\"Sentences processed:\", result_sentence.metadata.get(\"sentence_count\"))\n",
    "print(\"Entities returned:\", len(result_sentence.entities))\n",
    "print(\"Entities:\", result_sentence.entities)"
   ]
  },
  {
   "cell_type": "code",
   "execution_count": null,
   "id": "491eef9f",
   "metadata": {},
   "outputs": [],
   "source": []
  },
  {
   "cell_type": "code",
   "execution_count": null,
   "id": "ddd1951d",
   "metadata": {},
   "outputs": [],
   "source": []
  }
 ],
 "metadata": {
  "kernelspec": {
   "display_name": ".venv-openmed",
   "language": "python",
   "name": "python3"
  },
  "language_info": {
   "codemirror_mode": {
    "name": "ipython",
    "version": 3
   },
   "file_extension": ".py",
   "mimetype": "text/x-python",
   "name": "python",
   "nbconvert_exporter": "python",
   "pygments_lexer": "ipython3",
   "version": "3.10.16"
  }
 },
 "nbformat": 4,
 "nbformat_minor": 5
}
